{
 "cells": [
  {
   "cell_type": "code",
   "execution_count": 5,
   "id": "6a1007a3-edda-4c3b-870f-17ccb776918e",
   "metadata": {},
   "outputs": [
    {
     "name": "stdout",
     "output_type": "stream",
     "text": [
      "Requirement already satisfied: nudenet in ./opt/anaconda3/lib/python3.8/site-packages (2.0.9)\n",
      "Requirement already satisfied: scikit-image in ./opt/anaconda3/lib/python3.8/site-packages (from nudenet) (0.18.1)\n",
      "Requirement already satisfied: pydload in ./opt/anaconda3/lib/python3.8/site-packages (from nudenet) (1.0.9)\n",
      "Requirement already satisfied: pillow in ./opt/anaconda3/lib/python3.8/site-packages (from nudenet) (8.2.0)\n",
      "Requirement already satisfied: onnxruntime in ./opt/anaconda3/lib/python3.8/site-packages (from nudenet) (1.9.0)\n",
      "Requirement already satisfied: opencv-python-headless>=4.5.1.48 in ./opt/anaconda3/lib/python3.8/site-packages (from nudenet) (4.5.3.56)\n",
      "Requirement already satisfied: numpy>=1.17.3 in ./opt/anaconda3/lib/python3.8/site-packages (from opencv-python-headless>=4.5.1.48->nudenet) (1.20.1)\n",
      "Requirement already satisfied: flatbuffers in ./opt/anaconda3/lib/python3.8/site-packages (from onnxruntime->nudenet) (2.0)\n",
      "Requirement already satisfied: protobuf in ./opt/anaconda3/lib/python3.8/site-packages (from onnxruntime->nudenet) (3.18.1)\n",
      "Requirement already satisfied: requests in ./opt/anaconda3/lib/python3.8/site-packages (from pydload->nudenet) (2.25.1)\n",
      "Requirement already satisfied: progressbar2 in ./opt/anaconda3/lib/python3.8/site-packages (from pydload->nudenet) (3.54.0)\n",
      "Requirement already satisfied: six in ./opt/anaconda3/lib/python3.8/site-packages (from progressbar2->pydload->nudenet) (1.15.0)\n",
      "Requirement already satisfied: python-utils>=2.3.0 in ./opt/anaconda3/lib/python3.8/site-packages (from progressbar2->pydload->nudenet) (2.5.6)\n",
      "Requirement already satisfied: idna<3,>=2.5 in ./opt/anaconda3/lib/python3.8/site-packages (from requests->pydload->nudenet) (2.10)\n",
      "Requirement already satisfied: chardet<5,>=3.0.2 in ./opt/anaconda3/lib/python3.8/site-packages (from requests->pydload->nudenet) (4.0.0)\n",
      "Requirement already satisfied: certifi>=2017.4.17 in ./opt/anaconda3/lib/python3.8/site-packages (from requests->pydload->nudenet) (2020.12.5)\n",
      "Requirement already satisfied: urllib3<1.27,>=1.21.1 in ./opt/anaconda3/lib/python3.8/site-packages (from requests->pydload->nudenet) (1.26.4)\n",
      "Requirement already satisfied: scipy>=1.0.1 in ./opt/anaconda3/lib/python3.8/site-packages (from scikit-image->nudenet) (1.6.2)\n",
      "Requirement already satisfied: matplotlib!=3.0.0,>=2.0.0 in ./opt/anaconda3/lib/python3.8/site-packages (from scikit-image->nudenet) (3.3.4)\n",
      "Requirement already satisfied: networkx>=2.0 in ./opt/anaconda3/lib/python3.8/site-packages (from scikit-image->nudenet) (2.5)\n",
      "Requirement already satisfied: imageio>=2.3.0 in ./opt/anaconda3/lib/python3.8/site-packages (from scikit-image->nudenet) (2.9.0)\n",
      "Requirement already satisfied: tifffile>=2019.7.26 in ./opt/anaconda3/lib/python3.8/site-packages (from scikit-image->nudenet) (2020.10.1)\n",
      "Requirement already satisfied: PyWavelets>=1.1.1 in ./opt/anaconda3/lib/python3.8/site-packages (from scikit-image->nudenet) (1.1.1)\n",
      "Requirement already satisfied: python-dateutil>=2.1 in ./opt/anaconda3/lib/python3.8/site-packages (from matplotlib!=3.0.0,>=2.0.0->scikit-image->nudenet) (2.8.1)\n",
      "Requirement already satisfied: cycler>=0.10 in ./opt/anaconda3/lib/python3.8/site-packages (from matplotlib!=3.0.0,>=2.0.0->scikit-image->nudenet) (0.10.0)\n",
      "Requirement already satisfied: pyparsing!=2.0.4,!=2.1.2,!=2.1.6,>=2.0.3 in ./opt/anaconda3/lib/python3.8/site-packages (from matplotlib!=3.0.0,>=2.0.0->scikit-image->nudenet) (2.4.7)\n",
      "Requirement already satisfied: kiwisolver>=1.0.1 in ./opt/anaconda3/lib/python3.8/site-packages (from matplotlib!=3.0.0,>=2.0.0->scikit-image->nudenet) (1.3.1)\n",
      "Requirement already satisfied: decorator>=4.3.0 in ./opt/anaconda3/lib/python3.8/site-packages (from networkx>=2.0->scikit-image->nudenet) (5.0.6)\n",
      "Note: you may need to restart the kernel to use updated packages.\n"
     ]
    }
   ],
   "source": [
    "pip install --upgrade nudenet"
   ]
  },
  {
   "cell_type": "code",
   "execution_count": 6,
   "id": "6bd76162-d4e1-4e8b-ab8e-732b8ee4fc96",
   "metadata": {},
   "outputs": [],
   "source": [
    "from nudenet import NudeClassifier"
   ]
  },
  {
   "cell_type": "code",
   "execution_count": 7,
   "id": "c1faab68-8988-43f3-aae7-37c68da121b6",
   "metadata": {},
   "outputs": [],
   "source": [
    "classifier = NudeClassifier()"
   ]
  },
  {
   "cell_type": "code",
   "execution_count": 8,
   "id": "09bcd21a-5c61-4465-9265-a2e1d116c2d7",
   "metadata": {},
   "outputs": [
    {
     "name": "stdout",
     "output_type": "stream",
     "text": [
      "{'/Users/timzhaolingfeng/Desktop/WechatIMG3774.jpeg': {'unsafe': 0.2848474681377411, 'safe': 0.7151525616645813}}\n"
     ]
    }
   ],
   "source": [
    "print(classifier.classify('/Users/timzhaolingfeng/Desktop/WechatIMG3774.jpeg'))"
   ]
  },
  {
   "cell_type": "code",
   "execution_count": null,
   "id": "e35f8efc-a40f-4a22-83c6-82bddc22701a",
   "metadata": {},
   "outputs": [],
   "source": []
  },
  {
   "cell_type": "code",
   "execution_count": null,
   "id": "bc1160e7-3172-42e5-bb51-f2d6af2a4585",
   "metadata": {},
   "outputs": [],
   "source": []
  }
 ],
 "metadata": {
  "kernelspec": {
   "display_name": "Python 3",
   "language": "python",
   "name": "python3"
  },
  "language_info": {
   "codemirror_mode": {
    "name": "ipython",
    "version": 3
   },
   "file_extension": ".py",
   "mimetype": "text/x-python",
   "name": "python",
   "nbconvert_exporter": "python",
   "pygments_lexer": "ipython3",
   "version": "3.8.8"
  }
 },
 "nbformat": 4,
 "nbformat_minor": 5
}
